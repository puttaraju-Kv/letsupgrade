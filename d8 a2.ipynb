{
 "cells": [
  {
   "cell_type": "code",
   "execution_count": 3,
   "metadata": {},
   "outputs": [
    {
     "name": "stdin",
     "output_type": "stream",
     "text": [
      "name anand\n",
      "USN 12\n"
     ]
    },
    {
     "name": "stdout",
     "output_type": "stream",
     "text": [
      "terminate process\n"
     ]
    }
   ],
   "source": [
    "try:\n",
    "    f = open(\"a.txt\", \"r\")\n",
    "    a = input(\"name\")\n",
    "    b = input(\"USN\")\n",
    "except IOError:\n",
    "   \n",
    "    f.write(\" name is \" + a)\n",
    "    f.write(\" USN is \" + b + \"\\n\")\n",
    "    f.close()\n",
    "finally:\n",
    "    print(\"terminate process\")\n",
    "    \n"
   ]
  },
  {
   "cell_type": "code",
   "execution_count": null,
   "metadata": {},
   "outputs": [],
   "source": []
  }
 ],
 "metadata": {
  "kernelspec": {
   "display_name": "Python 3",
   "language": "python",
   "name": "python3"
  },
  "language_info": {
   "codemirror_mode": {
    "name": "ipython",
    "version": 3
   },
   "file_extension": ".py",
   "mimetype": "text/x-python",
   "name": "python",
   "nbconvert_exporter": "python",
   "pygments_lexer": "ipython3",
   "version": "3.7.8"
  }
 },
 "nbformat": 4,
 "nbformat_minor": 4
}
